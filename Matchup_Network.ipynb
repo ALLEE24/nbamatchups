{
 "cells": [
  {
   "cell_type": "code",
   "execution_count": 1,
   "id": "49a9a32e-e9a5-497d-a937-6d36eb15fa18",
   "metadata": {},
   "outputs": [
    {
     "data": {
      "text/plain": [
       "2284    1.0\n",
       "Name: Better, dtype: float64"
      ]
     },
     "execution_count": 1,
     "metadata": {},
     "output_type": "execute_result"
    }
   ],
   "source": [
    "import tensorflow as tf\n",
    "import pandas as pd\n",
    "#load the dataframes from Matchup_Generator.ipynb\n",
    "%store -r\n",
    "test_label.sample()"
   ]
  },
  {
   "cell_type": "code",
   "execution_count": 2,
   "id": "5fc0a72b-2361-49d4-ba87-67d8d83732be",
   "metadata": {},
   "outputs": [],
   "source": [
    "#build basic 1 layer neural network with 128 nodes, using binary cross entropy\n",
    "model = tf.keras.Sequential([\n",
    "    tf.keras.layers.Dense(128, activation='relu'),\n",
    "    tf.keras.layers.Dense(1)\n",
    "])\n",
    "model.compile(optimizer = 'adam', loss = tf.keras.losses.BinaryCrossentropy(from_logits=True), metrics=['accuracy'])"
   ]
  },
  {
   "cell_type": "code",
   "execution_count": 3,
   "id": "d3708dd8-2c11-45c4-b00a-e89c31631b3e",
   "metadata": {},
   "outputs": [
    {
     "name": "stdout",
     "output_type": "stream",
     "text": [
      "Epoch 1/10\n",
      "63/63 [==============================] - 1s 1ms/step - loss: 0.4582 - accuracy: 0.7440\n",
      "Epoch 2/10\n",
      "63/63 [==============================] - 0s 1ms/step - loss: 0.2200 - accuracy: 0.9225\n",
      "Epoch 3/10\n",
      "63/63 [==============================] - 0s 1ms/step - loss: 0.1639 - accuracy: 0.9370\n",
      "Epoch 4/10\n",
      "63/63 [==============================] - 0s 1ms/step - loss: 0.1473 - accuracy: 0.9390\n",
      "Epoch 5/10\n",
      "63/63 [==============================] - 0s 1ms/step - loss: 0.1428 - accuracy: 0.9440\n",
      "Epoch 6/10\n",
      "63/63 [==============================] - 0s 1ms/step - loss: 0.1354 - accuracy: 0.9500\n",
      "Epoch 7/10\n",
      "63/63 [==============================] - 0s 1ms/step - loss: 0.1325 - accuracy: 0.9495\n",
      "Epoch 8/10\n",
      "63/63 [==============================] - 0s 1ms/step - loss: 0.1300 - accuracy: 0.9480\n",
      "Epoch 9/10\n",
      "63/63 [==============================] - 0s 1ms/step - loss: 0.1264 - accuracy: 0.9495\n",
      "Epoch 10/10\n",
      "63/63 [==============================] - 0s 1ms/step - loss: 0.1256 - accuracy: 0.9530\n"
     ]
    },
    {
     "data": {
      "text/plain": [
       "<keras.callbacks.History at 0x1d29344cf10>"
      ]
     },
     "execution_count": 3,
     "metadata": {},
     "output_type": "execute_result"
    }
   ],
   "source": [
    "#train network\n",
    "model.fit(train_datan, train_label, epochs=10)"
   ]
  },
  {
   "cell_type": "code",
   "execution_count": 4,
   "id": "cc7c7ba3-5eb7-4fc3-b04c-cc63482d4667",
   "metadata": {},
   "outputs": [
    {
     "name": "stdout",
     "output_type": "stream",
     "text": [
      "12/12 - 0s - loss: 0.1293 - accuracy: 0.9367\n"
     ]
    }
   ],
   "source": [
    "#test\n",
    "test_loss, test_acc = model.evaluate(test_datan, test_label, verbose=2)"
   ]
  },
  {
   "cell_type": "code",
   "execution_count": null,
   "id": "5070b39a-8a57-4ec9-9d72-1070a2b242b5",
   "metadata": {},
   "outputs": [],
   "source": []
  }
 ],
 "metadata": {
  "kernelspec": {
   "display_name": "Python 3 (ipykernel)",
   "language": "python",
   "name": "python3"
  },
  "language_info": {
   "codemirror_mode": {
    "name": "ipython",
    "version": 3
   },
   "file_extension": ".py",
   "mimetype": "text/x-python",
   "name": "python",
   "nbconvert_exporter": "python",
   "pygments_lexer": "ipython3",
   "version": "3.9.7"
  }
 },
 "nbformat": 4,
 "nbformat_minor": 5
}
